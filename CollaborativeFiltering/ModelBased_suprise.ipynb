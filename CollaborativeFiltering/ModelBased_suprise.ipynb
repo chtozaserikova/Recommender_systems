{
 "cells": [
  {
   "cell_type": "code",
   "execution_count": 2,
   "metadata": {},
   "outputs": [],
   "source": [
    "import pandas as pd\n",
    "from surprise import SVD\n",
    "from surprise import Dataset\n",
    "from surprise import Reader\n",
    "from surprise.model_selection import cross_validate\n",
    "from surprise import NormalPredictor\n",
    "from surprise import KNNBasic\n",
    "from surprise import KNNWithMeans\n",
    "from surprise import KNNWithZScore\n",
    "from surprise import KNNBaseline\n",
    "from surprise import BaselineOnly\n",
    "from surprise import SVDpp\n",
    "from surprise import NMF\n",
    "from surprise import SlopeOne\n",
    "from surprise import CoClustering\n",
    "from surprise.accuracy import rmse\n",
    "from surprise import accuracy\n",
    "from surprise.model_selection import train_test_split\n",
    "from surprise.model_selection import GridSearchCV"
   ]
  },
  {
   "cell_type": "code",
   "execution_count": 3,
   "metadata": {},
   "outputs": [
    {
     "name": "stdout",
     "output_type": "stream",
     "text": [
      "Размерность датасета с рейтингами: (100836, 4)\n"
     ]
    }
   ],
   "source": [
    "import pandas as pd\n",
    "ratings_df = pd.read_csv('data/ml-latest-small/ratings.csv')\n",
    "\n",
    "print('Размерность датасета с рейтингами:', ratings_df.shape)"
   ]
  },
  {
   "cell_type": "code",
   "execution_count": 4,
   "metadata": {},
   "outputs": [
    {
     "name": "stdout",
     "output_type": "stream",
     "text": [
      "Evaluating RMSE, MAE of algorithm SVD on 5 split(s).\n",
      "\n",
      "                  Fold 1  Fold 2  Fold 3  Fold 4  Fold 5  Mean    Std     \n",
      "RMSE (testset)    0.8749  0.8762  0.8710  0.8717  0.8746  0.8737  0.0020  \n",
      "MAE (testset)     0.6735  0.6741  0.6697  0.6689  0.6715  0.6715  0.0020  \n",
      "Fit time          5.28    4.98    4.91    7.30    4.96    5.48    0.92    \n",
      "Test time         0.20    0.16    0.18    0.28    0.22    0.21    0.04    \n"
     ]
    },
    {
     "data": {
      "text/plain": [
       "{'test_rmse': array([0.87487936, 0.87615282, 0.8710159 , 0.8717249 , 0.87461977]),\n",
       " 'test_mae': array([0.67348578, 0.67411347, 0.66970214, 0.66889872, 0.67154268]),\n",
       " 'fit_time': (5.275315046310425,\n",
       "  4.977158069610596,\n",
       "  4.906824111938477,\n",
       "  7.298261880874634,\n",
       "  4.9564290046691895),\n",
       " 'test_time': (0.19797897338867188,\n",
       "  0.16450071334838867,\n",
       "  0.1819930076599121,\n",
       "  0.27523279190063477,\n",
       "  0.224229097366333)}"
      ]
     },
     "execution_count": 4,
     "metadata": {},
     "output_type": "execute_result"
    }
   ],
   "source": [
    "algo =SVD()\n",
    "reader = Reader(rating_scale=(1, 5))\n",
    "data = Dataset.load_from_df(ratings_df[['userId', 'movieId', 'rating']], reader)\n",
    "cross_validate(algo, data, measures=['RMSE','MAE'], cv=5, verbose=True)"
   ]
  },
  {
   "cell_type": "markdown",
   "metadata": {},
   "source": [
    "Основные алгоритмы: NormalPredictor, BaselineOnly, KNNBasic, KNNWithMeans, KNNWithZScore, KNNBaseline, SVD, SVDpp, NMF, SlopeOne, Coclustering"
   ]
  },
  {
   "cell_type": "code",
   "execution_count": 5,
   "metadata": {},
   "outputs": [
    {
     "name": "stdout",
     "output_type": "stream",
     "text": [
      "Начало алгоритма:  <surprise.prediction_algorithms.matrix_factorization.SVD object at 0x0000024883243760>\n"
     ]
    },
    {
     "name": "stderr",
     "output_type": "stream",
     "text": [
      "C:\\Users\\Sveta\\AppData\\Local\\Temp\\ipykernel_7468\\4147834456.py:10: FutureWarning: The series.append method is deprecated and will be removed from pandas in a future version. Use pandas.concat instead.\n",
      "  tmp = tmp.append(pd.Series([str(algorithm).split(' ')[0].split('.')[-1]], index=['Algorithm']))\n"
     ]
    },
    {
     "name": "stdout",
     "output_type": "stream",
     "text": [
      "Конец:  <surprise.prediction_algorithms.matrix_factorization.SVD object at 0x0000024883243760> \n",
      "\n",
      "\n",
      "Начало алгоритма:  <surprise.prediction_algorithms.matrix_factorization.SVDpp object at 0x0000024883243FA0>\n"
     ]
    },
    {
     "name": "stderr",
     "output_type": "stream",
     "text": [
      "C:\\Users\\Sveta\\AppData\\Local\\Temp\\ipykernel_7468\\4147834456.py:10: FutureWarning: The series.append method is deprecated and will be removed from pandas in a future version. Use pandas.concat instead.\n",
      "  tmp = tmp.append(pd.Series([str(algorithm).split(' ')[0].split('.')[-1]], index=['Algorithm']))\n"
     ]
    },
    {
     "name": "stdout",
     "output_type": "stream",
     "text": [
      "Конец:  <surprise.prediction_algorithms.matrix_factorization.SVDpp object at 0x0000024883243FA0> \n",
      "\n",
      "\n",
      "Начало алгоритма:  <surprise.prediction_algorithms.slope_one.SlopeOne object at 0x000002488113DD30>\n"
     ]
    },
    {
     "name": "stderr",
     "output_type": "stream",
     "text": [
      "C:\\Users\\Sveta\\AppData\\Local\\Temp\\ipykernel_7468\\4147834456.py:10: FutureWarning: The series.append method is deprecated and will be removed from pandas in a future version. Use pandas.concat instead.\n",
      "  tmp = tmp.append(pd.Series([str(algorithm).split(' ')[0].split('.')[-1]], index=['Algorithm']))\n"
     ]
    },
    {
     "name": "stdout",
     "output_type": "stream",
     "text": [
      "Конец:  <surprise.prediction_algorithms.slope_one.SlopeOne object at 0x000002488113DD30> \n",
      "\n",
      "\n",
      "Начало алгоритма:  <surprise.prediction_algorithms.matrix_factorization.NMF object at 0x0000024883243790>\n"
     ]
    },
    {
     "name": "stderr",
     "output_type": "stream",
     "text": [
      "C:\\Users\\Sveta\\AppData\\Local\\Temp\\ipykernel_7468\\4147834456.py:10: FutureWarning: The series.append method is deprecated and will be removed from pandas in a future version. Use pandas.concat instead.\n",
      "  tmp = tmp.append(pd.Series([str(algorithm).split(' ')[0].split('.')[-1]], index=['Algorithm']))\n"
     ]
    },
    {
     "name": "stdout",
     "output_type": "stream",
     "text": [
      "Конец:  <surprise.prediction_algorithms.matrix_factorization.NMF object at 0x0000024883243790> \n",
      "\n",
      "\n",
      "Начало алгоритма:  <surprise.prediction_algorithms.random_pred.NormalPredictor object at 0x0000024883243FD0>\n"
     ]
    },
    {
     "name": "stderr",
     "output_type": "stream",
     "text": [
      "C:\\Users\\Sveta\\AppData\\Local\\Temp\\ipykernel_7468\\4147834456.py:10: FutureWarning: The series.append method is deprecated and will be removed from pandas in a future version. Use pandas.concat instead.\n",
      "  tmp = tmp.append(pd.Series([str(algorithm).split(' ')[0].split('.')[-1]], index=['Algorithm']))\n"
     ]
    },
    {
     "name": "stdout",
     "output_type": "stream",
     "text": [
      "Конец:  <surprise.prediction_algorithms.random_pred.NormalPredictor object at 0x0000024883243FD0> \n",
      "\n",
      "\n",
      "Начало алгоритма:  <surprise.prediction_algorithms.knns.KNNBaseline object at 0x0000024883243F40>\n",
      "Estimating biases using als...\n",
      "Computing the msd similarity matrix...\n",
      "Done computing similarity matrix.\n",
      "Estimating biases using als...\n",
      "Computing the msd similarity matrix...\n",
      "Done computing similarity matrix.\n",
      "Estimating biases using als...\n",
      "Computing the msd similarity matrix...\n",
      "Done computing similarity matrix.\n"
     ]
    },
    {
     "name": "stderr",
     "output_type": "stream",
     "text": [
      "C:\\Users\\Sveta\\AppData\\Local\\Temp\\ipykernel_7468\\4147834456.py:10: FutureWarning: The series.append method is deprecated and will be removed from pandas in a future version. Use pandas.concat instead.\n",
      "  tmp = tmp.append(pd.Series([str(algorithm).split(' ')[0].split('.')[-1]], index=['Algorithm']))\n"
     ]
    },
    {
     "name": "stdout",
     "output_type": "stream",
     "text": [
      "Конец:  <surprise.prediction_algorithms.knns.KNNBaseline object at 0x0000024883243F40> \n",
      "\n",
      "\n",
      "Начало алгоритма:  <surprise.prediction_algorithms.knns.KNNBasic object at 0x0000024883243F10>\n",
      "Computing the msd similarity matrix...\n",
      "Done computing similarity matrix.\n",
      "Computing the msd similarity matrix...\n",
      "Done computing similarity matrix.\n",
      "Computing the msd similarity matrix...\n",
      "Done computing similarity matrix.\n"
     ]
    },
    {
     "name": "stderr",
     "output_type": "stream",
     "text": [
      "C:\\Users\\Sveta\\AppData\\Local\\Temp\\ipykernel_7468\\4147834456.py:10: FutureWarning: The series.append method is deprecated and will be removed from pandas in a future version. Use pandas.concat instead.\n",
      "  tmp = tmp.append(pd.Series([str(algorithm).split(' ')[0].split('.')[-1]], index=['Algorithm']))\n"
     ]
    },
    {
     "name": "stdout",
     "output_type": "stream",
     "text": [
      "Конец:  <surprise.prediction_algorithms.knns.KNNBasic object at 0x0000024883243F10> \n",
      "\n",
      "\n",
      "Начало алгоритма:  <surprise.prediction_algorithms.knns.KNNWithMeans object at 0x0000024883243E80>\n",
      "Computing the msd similarity matrix...\n",
      "Done computing similarity matrix.\n",
      "Computing the msd similarity matrix...\n",
      "Done computing similarity matrix.\n",
      "Computing the msd similarity matrix...\n",
      "Done computing similarity matrix.\n"
     ]
    },
    {
     "name": "stderr",
     "output_type": "stream",
     "text": [
      "C:\\Users\\Sveta\\AppData\\Local\\Temp\\ipykernel_7468\\4147834456.py:10: FutureWarning: The series.append method is deprecated and will be removed from pandas in a future version. Use pandas.concat instead.\n",
      "  tmp = tmp.append(pd.Series([str(algorithm).split(' ')[0].split('.')[-1]], index=['Algorithm']))\n"
     ]
    },
    {
     "name": "stdout",
     "output_type": "stream",
     "text": [
      "Конец:  <surprise.prediction_algorithms.knns.KNNWithMeans object at 0x0000024883243E80> \n",
      "\n",
      "\n",
      "Начало алгоритма:  <surprise.prediction_algorithms.knns.KNNWithZScore object at 0x0000024883243E20>\n",
      "Computing the msd similarity matrix...\n",
      "Done computing similarity matrix.\n",
      "Computing the msd similarity matrix...\n",
      "Done computing similarity matrix.\n",
      "Computing the msd similarity matrix...\n",
      "Done computing similarity matrix.\n"
     ]
    },
    {
     "name": "stderr",
     "output_type": "stream",
     "text": [
      "C:\\Users\\Sveta\\AppData\\Local\\Temp\\ipykernel_7468\\4147834456.py:10: FutureWarning: The series.append method is deprecated and will be removed from pandas in a future version. Use pandas.concat instead.\n",
      "  tmp = tmp.append(pd.Series([str(algorithm).split(' ')[0].split('.')[-1]], index=['Algorithm']))\n"
     ]
    },
    {
     "name": "stdout",
     "output_type": "stream",
     "text": [
      "Конец:  <surprise.prediction_algorithms.knns.KNNWithZScore object at 0x0000024883243E20> \n",
      "\n",
      "\n",
      "Начало алгоритма:  <surprise.prediction_algorithms.baseline_only.BaselineOnly object at 0x0000024883243DC0>\n",
      "Estimating biases using als...\n",
      "Estimating biases using als...\n",
      "Estimating biases using als...\n"
     ]
    },
    {
     "name": "stderr",
     "output_type": "stream",
     "text": [
      "C:\\Users\\Sveta\\AppData\\Local\\Temp\\ipykernel_7468\\4147834456.py:10: FutureWarning: The series.append method is deprecated and will be removed from pandas in a future version. Use pandas.concat instead.\n",
      "  tmp = tmp.append(pd.Series([str(algorithm).split(' ')[0].split('.')[-1]], index=['Algorithm']))\n"
     ]
    },
    {
     "name": "stdout",
     "output_type": "stream",
     "text": [
      "Конец:  <surprise.prediction_algorithms.baseline_only.BaselineOnly object at 0x0000024883243DC0> \n",
      "\n",
      "\n",
      "Начало алгоритма:  <surprise.prediction_algorithms.co_clustering.CoClustering object at 0x0000024883243D60>\n",
      "Конец:  <surprise.prediction_algorithms.co_clustering.CoClustering object at 0x0000024883243D60> \n",
      "\n",
      "\n",
      "\n",
      "\tDONE\n",
      "\n"
     ]
    },
    {
     "name": "stderr",
     "output_type": "stream",
     "text": [
      "C:\\Users\\Sveta\\AppData\\Local\\Temp\\ipykernel_7468\\4147834456.py:10: FutureWarning: The series.append method is deprecated and will be removed from pandas in a future version. Use pandas.concat instead.\n",
      "  tmp = tmp.append(pd.Series([str(algorithm).split(' ')[0].split('.')[-1]], index=['Algorithm']))\n"
     ]
    }
   ],
   "source": [
    "benchmark = []\n",
    "\n",
    "algorithms = [SVD(), SVDpp(), SlopeOne(), NMF(), NormalPredictor(), KNNBaseline(), KNNBasic(), KNNWithMeans(), KNNWithZScore(), BaselineOnly(), CoClustering()]\n",
    "\n",
    "for algorithm in algorithms:\n",
    "    print(\"Начало алгоритма: \" ,str(algorithm))\n",
    "    results = cross_validate(algorithm, data, measures=['RMSE'], cv=3, verbose=False)\n",
    "    \n",
    "    tmp = pd.DataFrame.from_dict(results).mean(axis=0)\n",
    "    tmp = tmp.append(pd.Series([str(algorithm).split(' ')[0].split('.')[-1]], index=['Algorithm']))\n",
    "    benchmark.append(tmp)\n",
    "    print(\"Конец: \" ,str(algorithm), \"\\n\\n\")\n",
    "\n",
    "print ('\\n\\tDONE\\n')"
   ]
  },
  {
   "cell_type": "code",
   "execution_count": 6,
   "metadata": {},
   "outputs": [
    {
     "data": {
      "text/html": [
       "<div>\n",
       "<style scoped>\n",
       "    .dataframe tbody tr th:only-of-type {\n",
       "        vertical-align: middle;\n",
       "    }\n",
       "\n",
       "    .dataframe tbody tr th {\n",
       "        vertical-align: top;\n",
       "    }\n",
       "\n",
       "    .dataframe thead th {\n",
       "        text-align: right;\n",
       "    }\n",
       "</style>\n",
       "<table border=\"1\" class=\"dataframe\">\n",
       "  <thead>\n",
       "    <tr style=\"text-align: right;\">\n",
       "      <th></th>\n",
       "      <th>test_rmse</th>\n",
       "      <th>fit_time</th>\n",
       "      <th>test_time</th>\n",
       "    </tr>\n",
       "    <tr>\n",
       "      <th>Algorithm</th>\n",
       "      <th></th>\n",
       "      <th></th>\n",
       "      <th></th>\n",
       "    </tr>\n",
       "  </thead>\n",
       "  <tbody>\n",
       "    <tr>\n",
       "      <th>SVDpp</th>\n",
       "      <td>0.870686</td>\n",
       "      <td>378.688218</td>\n",
       "      <td>15.256985</td>\n",
       "    </tr>\n",
       "    <tr>\n",
       "      <th>BaselineOnly</th>\n",
       "      <td>0.876951</td>\n",
       "      <td>0.294347</td>\n",
       "      <td>0.350887</td>\n",
       "    </tr>\n",
       "    <tr>\n",
       "      <th>SVD</th>\n",
       "      <td>0.881228</td>\n",
       "      <td>4.225885</td>\n",
       "      <td>0.435249</td>\n",
       "    </tr>\n",
       "    <tr>\n",
       "      <th>KNNBaseline</th>\n",
       "      <td>0.881315</td>\n",
       "      <td>0.495145</td>\n",
       "      <td>2.777936</td>\n",
       "    </tr>\n",
       "    <tr>\n",
       "      <th>KNNWithZScore</th>\n",
       "      <td>0.900996</td>\n",
       "      <td>0.319319</td>\n",
       "      <td>2.534997</td>\n",
       "    </tr>\n",
       "    <tr>\n",
       "      <th>KNNWithMeans</th>\n",
       "      <td>0.903320</td>\n",
       "      <td>0.256989</td>\n",
       "      <td>2.264462</td>\n",
       "    </tr>\n",
       "    <tr>\n",
       "      <th>SlopeOne</th>\n",
       "      <td>0.909126</td>\n",
       "      <td>6.086839</td>\n",
       "      <td>10.234273</td>\n",
       "    </tr>\n",
       "    <tr>\n",
       "      <th>NMF</th>\n",
       "      <td>0.932006</td>\n",
       "      <td>5.992513</td>\n",
       "      <td>0.300369</td>\n",
       "    </tr>\n",
       "    <tr>\n",
       "      <th>CoClustering</th>\n",
       "      <td>0.950781</td>\n",
       "      <td>2.640675</td>\n",
       "      <td>0.252421</td>\n",
       "    </tr>\n",
       "    <tr>\n",
       "      <th>KNNBasic</th>\n",
       "      <td>0.958385</td>\n",
       "      <td>0.217660</td>\n",
       "      <td>2.228026</td>\n",
       "    </tr>\n",
       "    <tr>\n",
       "      <th>NormalPredictor</th>\n",
       "      <td>1.423841</td>\n",
       "      <td>0.126343</td>\n",
       "      <td>0.280517</td>\n",
       "    </tr>\n",
       "  </tbody>\n",
       "</table>\n",
       "</div>"
      ],
      "text/plain": [
       "                 test_rmse    fit_time  test_time\n",
       "Algorithm                                        \n",
       "SVDpp             0.870686  378.688218  15.256985\n",
       "BaselineOnly      0.876951    0.294347   0.350887\n",
       "SVD               0.881228    4.225885   0.435249\n",
       "KNNBaseline       0.881315    0.495145   2.777936\n",
       "KNNWithZScore     0.900996    0.319319   2.534997\n",
       "KNNWithMeans      0.903320    0.256989   2.264462\n",
       "SlopeOne          0.909126    6.086839  10.234273\n",
       "NMF               0.932006    5.992513   0.300369\n",
       "CoClustering      0.950781    2.640675   0.252421\n",
       "KNNBasic          0.958385    0.217660   2.228026\n",
       "NormalPredictor   1.423841    0.126343   0.280517"
      ]
     },
     "execution_count": 6,
     "metadata": {},
     "output_type": "execute_result"
    }
   ],
   "source": [
    "surprise_results = pd.DataFrame(benchmark).set_index('Algorithm').sort_values('test_rmse')\n",
    "surprise_results"
   ]
  },
  {
   "cell_type": "code",
   "execution_count": 7,
   "metadata": {},
   "outputs": [
    {
     "name": "stdout",
     "output_type": "stream",
     "text": [
      "BEST RMSE: \t 0.8670399121963535\n",
      "BEST MAE: \t 0.6649485582909219\n",
      "BEST params: \t {'n_factors': 10, 'n_epochs': 30, 'lr_all': 0.005, 'reg_all': 0.02}\n"
     ]
    }
   ],
   "source": [
    "param_grid = {\n",
    "    'n_factors': [5, 10], \n",
    "    \"n_epochs\": [20, 30],\n",
    "    \"lr_all\": [0.002, 0.005],\n",
    "    \"reg_all\": [0.02]\n",
    "}\n",
    "gs = GridSearchCV(SVD, param_grid, measures=[\"rmse\", \"mae\"], n_jobs = -1, refit=True, cv=5)\n",
    "\n",
    "gs.fit(data)\n",
    "\n",
    "training_parameters = gs.best_params[\"rmse\"]\n",
    "\n",
    "print(\"BEST RMSE: \\t\", gs.best_score[\"rmse\"])\n",
    "print(\"BEST MAE: \\t\", gs.best_score[\"mae\"])\n",
    "print(\"BEST params: \\t\", gs.best_params[\"rmse\"])"
   ]
  }
 ],
 "metadata": {
  "interpreter": {
   "hash": "cfac554061cec3b335036fa8b6801036853a955907f1f5ef4641689774cc296b"
  },
  "kernelspec": {
   "display_name": "Python 3.9.7 ('recommmmenadtion_system')",
   "language": "python",
   "name": "python3"
  },
  "language_info": {
   "codemirror_mode": {
    "name": "ipython",
    "version": 3
   },
   "file_extension": ".py",
   "mimetype": "text/x-python",
   "name": "python",
   "nbconvert_exporter": "python",
   "pygments_lexer": "ipython3",
   "version": "3.9.7"
  },
  "orig_nbformat": 4
 },
 "nbformat": 4,
 "nbformat_minor": 2
}
