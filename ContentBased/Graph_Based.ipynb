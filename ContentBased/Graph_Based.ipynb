{
 "cells": [
  {
   "cell_type": "code",
   "execution_count": 4,
   "metadata": {},
   "outputs": [],
   "source": [
    "import pandas as pd\n",
    "import numpy as np\n",
    "from scipy import sparse\n",
    "from sklearn.preprocessing import normalize"
   ]
  },
  {
   "cell_type": "code",
   "execution_count": 2,
   "metadata": {},
   "outputs": [],
   "source": [
    "interactions_df = pd.read_csv('lastfm_user_scrobbles.csv')\n",
    "titles_df = pd.read_csv('lastfm_artist_list.csv')"
   ]
  },
  {
   "cell_type": "code",
   "execution_count": 3,
   "metadata": {},
   "outputs": [
    {
     "data": {
      "text/plain": [
       "artist_id    49.044397\n",
       "scrobbles    49.044397\n",
       "dtype: float64"
      ]
     },
     "execution_count": 3,
     "metadata": {},
     "output_type": "execute_result"
    }
   ],
   "source": [
    "# проверяем распределение\n",
    "interactions_df.groupby('user_id').count().mean()"
   ]
  },
  {
   "cell_type": "code",
   "execution_count": 6,
   "metadata": {},
   "outputs": [
    {
     "data": {
      "text/html": [
       "<div>\n",
       "<style scoped>\n",
       "    .dataframe tbody tr th:only-of-type {\n",
       "        vertical-align: middle;\n",
       "    }\n",
       "\n",
       "    .dataframe tbody tr th {\n",
       "        vertical-align: top;\n",
       "    }\n",
       "\n",
       "    .dataframe thead th {\n",
       "        text-align: right;\n",
       "    }\n",
       "</style>\n",
       "<table border=\"1\" class=\"dataframe\">\n",
       "  <thead>\n",
       "    <tr style=\"text-align: right;\">\n",
       "      <th></th>\n",
       "      <th>artist_id</th>\n",
       "      <th>artist_name</th>\n",
       "    </tr>\n",
       "    <tr>\n",
       "      <th>artist_id</th>\n",
       "      <th></th>\n",
       "      <th></th>\n",
       "    </tr>\n",
       "  </thead>\n",
       "  <tbody>\n",
       "    <tr>\n",
       "      <th>1</th>\n",
       "      <td>1</td>\n",
       "      <td>__Max__</td>\n",
       "    </tr>\n",
       "    <tr>\n",
       "      <th>2</th>\n",
       "      <td>2</td>\n",
       "      <td>_Algol_</td>\n",
       "    </tr>\n",
       "    <tr>\n",
       "      <th>3</th>\n",
       "      <td>3</td>\n",
       "      <td>-123 Min.</td>\n",
       "    </tr>\n",
       "    <tr>\n",
       "      <th>4</th>\n",
       "      <td>4</td>\n",
       "      <td>-Oz-</td>\n",
       "    </tr>\n",
       "    <tr>\n",
       "      <th>5</th>\n",
       "      <td>5</td>\n",
       "      <td>-T De Sangre</td>\n",
       "    </tr>\n",
       "    <tr>\n",
       "      <th>...</th>\n",
       "      <td>...</td>\n",
       "      <td>...</td>\n",
       "    </tr>\n",
       "    <tr>\n",
       "      <th>17489</th>\n",
       "      <td>17489</td>\n",
       "      <td>鷺巣詩郎</td>\n",
       "    </tr>\n",
       "    <tr>\n",
       "      <th>17490</th>\n",
       "      <td>17490</td>\n",
       "      <td>黃立行</td>\n",
       "    </tr>\n",
       "    <tr>\n",
       "      <th>17491</th>\n",
       "      <td>17491</td>\n",
       "      <td>黄义达</td>\n",
       "    </tr>\n",
       "    <tr>\n",
       "      <th>17492</th>\n",
       "      <td>17492</td>\n",
       "      <td>黒木メイサ</td>\n",
       "    </tr>\n",
       "    <tr>\n",
       "      <th>17493</th>\n",
       "      <td>17493</td>\n",
       "      <td>鼓童</td>\n",
       "    </tr>\n",
       "  </tbody>\n",
       "</table>\n",
       "<p>17493 rows × 2 columns</p>\n",
       "</div>"
      ],
      "text/plain": [
       "           artist_id   artist_name\n",
       "artist_id                         \n",
       "1                  1       __Max__\n",
       "2                  2       _Algol_\n",
       "3                  3     -123 Min.\n",
       "4                  4          -Oz-\n",
       "5                  5  -T De Sangre\n",
       "...              ...           ...\n",
       "17489          17489          鷺巣詩郎\n",
       "17490          17490           黃立行\n",
       "17491          17491           黄义达\n",
       "17492          17492         黒木メイサ\n",
       "17493          17493            鼓童\n",
       "\n",
       "[17493 rows x 2 columns]"
      ]
     },
     "execution_count": 6,
     "metadata": {},
     "output_type": "execute_result"
    }
   ],
   "source": [
    "titles_df"
   ]
  },
  {
   "cell_type": "code",
   "execution_count": 17,
   "metadata": {},
   "outputs": [],
   "source": [
    "# имена артистов\n",
    "titles_df.index = titles_df['artist_id']\n",
    "title_dict = titles_df['artist_name'].to_dict()"
   ]
  },
  {
   "cell_type": "code",
   "execution_count": 8,
   "metadata": {},
   "outputs": [],
   "source": [
    "# Матрица UI \n",
    "# в первой переменной индексы юзеров, а во второй переменной их позиции\n",
    "rows, r_pos = np.unique(interactions_df.values[:, 0], return_inverse = True)"
   ]
  },
  {
   "cell_type": "code",
   "execution_count": 11,
   "metadata": {},
   "outputs": [],
   "source": [
    "# тоже самое, но теперь для исполнителей\n",
    "cols, c_pos = np.unique(interactions_df.values[:, 1], return_inverse = True)"
   ]
  },
  {
   "cell_type": "code",
   "execution_count": 14,
   "metadata": {},
   "outputs": [
    {
     "data": {
      "text/plain": [
       "<1892x17493 sparse matrix of type '<class 'numpy.int64'>'\n",
       "\twith 92723 stored elements in Compressed Sparse Row format>"
      ]
     },
     "execution_count": 14,
     "metadata": {},
     "output_type": "execute_result"
    }
   ],
   "source": [
    "interactions_sparse = sparse.csr_matrix((interactions_df.values[:, 2], (r_pos, c_pos)))\n",
    "interactions_sparse"
   ]
  },
  {
   "cell_type": "code",
   "execution_count": 15,
   "metadata": {},
   "outputs": [],
   "source": [
    "# нормализуем и получаем матрицу схожести\n",
    "Pui = normalize(interactions_sparse, norm = 'l2', axis = 1)\n",
    "sim = Pui.T * Pui"
   ]
  },
  {
   "cell_type": "code",
   "execution_count": 16,
   "metadata": {},
   "outputs": [
    {
     "data": {
      "text/plain": [
       "matrix([[0.00120405, 0.        , 0.        , ..., 0.        , 0.        ,\n",
       "         0.        ],\n",
       "        [0.        , 0.00258841, 0.        , ..., 0.        , 0.        ,\n",
       "         0.        ],\n",
       "        [0.        , 0.        , 0.00383689, ..., 0.        , 0.        ,\n",
       "         0.        ],\n",
       "        ...,\n",
       "        [0.        , 0.        , 0.        , ..., 0.0228355 , 0.        ,\n",
       "         0.        ],\n",
       "        [0.        , 0.        , 0.        , ..., 0.        , 0.00827076,\n",
       "         0.        ],\n",
       "        [0.        , 0.        , 0.        , ..., 0.        , 0.        ,\n",
       "         0.0010429 ]])"
      ]
     },
     "execution_count": 16,
     "metadata": {},
     "output_type": "execute_result"
    }
   ],
   "source": [
    "# косинусная близость\n",
    "sim.todense()"
   ]
  },
  {
   "cell_type": "code",
   "execution_count": 19,
   "metadata": {},
   "outputs": [
    {
     "data": {
      "text/plain": [
       "['Metallica',\n",
       " 'Satyricon',\n",
       " 'Immortal',\n",
       " 'Morbid Angel',\n",
       " 'Tool',\n",
       " 'Opeth',\n",
       " 'Iron Maiden',\n",
       " 'Him',\n",
       " 'Moonspell',\n",
       " 'Hirax']"
      ]
     },
     "execution_count": 19,
     "metadata": {},
     "output_type": "execute_result"
    }
   ],
   "source": [
    "# получаем из матрицы нужную строчку (sim[]), конвертируем в array, \n",
    "# сортирумеи и берем последние N похожих\n",
    "N = 10\n",
    "[title_dict[i+1] for i in sim[10180].toarray().argsort()[0][-N:]]"
   ]
  },
  {
   "cell_type": "code",
   "execution_count": 22,
   "metadata": {},
   "outputs": [
    {
     "name": "stdout",
     "output_type": "stream",
     "text": [
      "(1892, 17493)\n"
     ]
    }
   ],
   "source": [
    "# делаем предсказания для пользователей \n",
    "interactions_sparse_transposed = interactions_sparse.transpose(copy = True)\n",
    "Piu = normalize(interactions_sparse_transposed, norm = 'l2', axis = 1)\n",
    "\n",
    "fit = Pui * Piu * Pui\n",
    "print(fit.shape)"
   ]
  },
  {
   "cell_type": "code",
   "execution_count": 24,
   "metadata": {},
   "outputs": [],
   "source": [
    "# группы, которые слушал пользователь 520\n",
    "init_set = set([title_dict[i+1] for i in np.nonzero(interactions_sparse[520])[1].tolist()])"
   ]
  },
  {
   "cell_type": "code",
   "execution_count": 25,
   "metadata": {},
   "outputs": [],
   "source": [
    "# что порекомендовали пользователю 520\n",
    "pred_set = set([title_dict[i+1] for i in fit[520].toarray().argsort()[0][-20:].tolist()])"
   ]
  },
  {
   "cell_type": "code",
   "execution_count": 26,
   "metadata": {},
   "outputs": [
    {
     "data": {
      "text/plain": [
       "6"
      ]
     },
     "execution_count": 26,
     "metadata": {},
     "output_type": "execute_result"
    }
   ],
   "source": [
    "len(pred_set - init_set)"
   ]
  }
 ],
 "metadata": {
  "kernelspec": {
   "display_name": "Python 3.10.5 64-bit",
   "language": "python",
   "name": "python3"
  },
  "language_info": {
   "codemirror_mode": {
    "name": "ipython",
    "version": 3
   },
   "file_extension": ".py",
   "mimetype": "text/x-python",
   "name": "python",
   "nbconvert_exporter": "python",
   "pygments_lexer": "ipython3",
   "version": "3.10.5"
  },
  "orig_nbformat": 4,
  "vscode": {
   "interpreter": {
    "hash": "21a3d01e8368cfa19a102c134c0c062a32736263c5d0133ceaa97ac29f712d49"
   }
  }
 },
 "nbformat": 4,
 "nbformat_minor": 2
}
